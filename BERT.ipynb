{
  "cells": [
    {
      "cell_type": "markdown",
      "metadata": {
        "id": "2PHBpLPuQdmK"
      },
      "source": [
        "## About BERT\n",
        "\n",
        "[BERT](https://arxiv.org/abs/1810.04805) and other Transformer encoder architectures have been wildly successful on a variety of tasks in NLP (natural language processing). They compute vector-space representations of natural language that are suitable for use in deep learning models. The BERT family of models uses the Transformer encoder architecture to process each token of input text in the full context of all tokens before and after, hence the name: Bidirectional Encoder Representations from Transformers. \n",
        "\n",
        "BERT models are usually pre-trained on a large corpus of text, then fine-tuned for specific tasks.\n"
      ]
    },
    {
      "cell_type": "markdown",
      "metadata": {
        "id": "SCjmX4zTCkRK"
      },
      "source": [
        "## Setup\n"
      ]
    },
    {
      "cell_type": "code",
      "execution_count": 1,
      "metadata": {
        "id": "q-YbjCkzw0yU"
      },
      "outputs": [],
      "source": [
        "# A dependency of the preprocessing for BERT inputs\n",
        "!pip install -q -U \"tensorflow-text==2.8.*\""
      ]
    },
    {
      "cell_type": "markdown",
      "metadata": {
        "id": "5w_XlxN1IsRJ"
      },
      "source": [
        "You will use the AdamW optimizer from [tensorflow/models](https://github.com/tensorflow/models)."
      ]
    },
    {
      "cell_type": "code",
      "execution_count": 2,
      "metadata": {
        "id": "b-P1ZOA0FkVJ"
      },
      "outputs": [],
      "source": [
        "!pip install -q tf-models-official==2.7.0"
      ]
    },
    {
      "cell_type": "code",
      "execution_count": 3,
      "metadata": {
        "id": "_XgTpm9ZxoN9"
      },
      "outputs": [],
      "source": [
        "import os\n",
        "import shutil\n",
        "\n",
        "import tensorflow as tf\n",
        "import tensorflow_hub as hub\n",
        "import tensorflow_text as text\n",
        "from official.nlp import optimization  # to create AdamW optimizer\n",
        "\n",
        "import matplotlib.pyplot as plt\n",
        "\n",
        "tf.get_logger().setLevel('ERROR')"
      ]
    },
    {
      "cell_type": "code",
      "source": [
        "from google.colab import drive\n",
        "drive.mount('/content/drive')"
      ],
      "metadata": {
        "id": "8lR76HmS2C-q",
        "colab": {
          "base_uri": "https://localhost:8080/"
        },
        "outputId": "de4b9a46-bfcb-410e-8851-fa279faddf90"
      },
      "execution_count": 4,
      "outputs": [
        {
          "output_type": "stream",
          "name": "stdout",
          "text": [
            "Drive already mounted at /content/drive; to attempt to forcibly remount, call drive.mount(\"/content/drive\", force_remount=True).\n"
          ]
        }
      ]
    },
    {
      "cell_type": "code",
      "source": [
        "import tarfile\n",
        "tar = tarfile.open(\"/content/drive/MyDrive/suicide_text_data_10.tar.gz\")\n",
        "tar.extractall()\n",
        "tar.close()"
      ],
      "metadata": {
        "id": "6M4sf-Uw22z1"
      },
      "execution_count": 5,
      "outputs": []
    },
    {
      "cell_type": "code",
      "execution_count": 6,
      "metadata": {
        "id": "pOdqCMoQDRJL",
        "colab": {
          "base_uri": "https://localhost:8080/"
        },
        "outputId": "00d49a5a-1c13-4656-be2c-66e0f60fb1ce"
      },
      "outputs": [
        {
          "output_type": "stream",
          "name": "stdout",
          "text": [
            "/content/suicide_data\n",
            "/content/suicide_data/train\n",
            "/content/suicide_data/test\n"
          ]
        }
      ],
      "source": [
        "# url = 'https://ai.stanford.edu/~amaas/data/sentiment/aclImdb_v1.tar.gz'\n",
        "\n",
        "# dataset = tf.keras.utils.get_file('aclImdb_v1.tar.gz', url,\n",
        "#                                   untar=True, cache_dir='.',\n",
        "#                                   cache_subdir='')\n",
        "# dataset_dir = os.path.join(os.path.dirname(dataset), 'aclImdb')\n",
        "\n",
        "dataset = '/content/'\n",
        "dataset_dir = os.path.join(os.path.dirname(dataset), 'suicide_data')\n",
        "\n",
        "train_dir = os.path.join(dataset_dir, 'train')\n",
        "\n",
        "test_dir = os.path.join(dataset_dir, 'test')\n",
        "\n",
        "print(dataset_dir)\n",
        "print(train_dir)\n",
        "print(test_dir)\n",
        "\n",
        "# # remove unused folders to make it easier to load the data\n",
        "# remove_dir = os.path.join(train_dir, 'unsup')\n",
        "# shutil.rmtree(remove_dir)"
      ]
    },
    {
      "cell_type": "code",
      "execution_count": 7,
      "metadata": {
        "id": "6IwI_2bcIeX8",
        "colab": {
          "base_uri": "https://localhost:8080/"
        },
        "outputId": "707c1d9d-b8ed-4a98-c533-1be86c340999"
      },
      "outputs": [
        {
          "output_type": "stream",
          "name": "stdout",
          "text": [
            "Found 10000 files belonging to 2 classes.\n",
            "Using 8000 files for training.\n",
            "Found 10000 files belonging to 2 classes.\n",
            "Using 2000 files for validation.\n",
            "Found 46 files belonging to 2 classes.\n"
          ]
        }
      ],
      "source": [
        "AUTOTUNE = tf.data.AUTOTUNE\n",
        "batch_size = 32\n",
        "seed = 12\n",
        "\n",
        "raw_train_ds = tf.keras.utils.text_dataset_from_directory(\n",
        "    train_dir,\n",
        "    batch_size=batch_size,\n",
        "    validation_split=0.2,\n",
        "    subset='training',\n",
        "    seed=seed)\n",
        "\n",
        "class_names = raw_train_ds.class_names\n",
        "train_ds = raw_train_ds.cache().prefetch(buffer_size=AUTOTUNE)\n",
        "\n",
        "val_ds = tf.keras.utils.text_dataset_from_directory(\n",
        "    train_dir,\n",
        "    batch_size=batch_size,\n",
        "    validation_split=0.2,\n",
        "    subset='validation',\n",
        "    seed=seed)\n",
        "\n",
        "val_ds = val_ds.cache().prefetch(buffer_size=AUTOTUNE)\n",
        "\n",
        "test_ds = tf.keras.utils.text_dataset_from_directory(\n",
        "    test_dir,\n",
        "    batch_size=batch_size)\n",
        "\n",
        "test_ds = test_ds.cache().prefetch(buffer_size=AUTOTUNE)"
      ]
    },
    {
      "cell_type": "code",
      "execution_count": 8,
      "metadata": {
        "id": "JuxDkcvVIoev",
        "colab": {
          "base_uri": "https://localhost:8080/"
        },
        "outputId": "fe68898d-efc1-48b4-a631-0ff670f6fad8"
      },
      "outputs": [
        {
          "output_type": "stream",
          "name": "stdout",
          "text": [
            "Review: b'see son anywhere think leave oven sure'\n",
            "Label : 0 (neg)\n",
            "Review: b'bareminimum lifedo nt leave house talk anyone take care place live least acceptable level cry everything unable summon tear need spend time escapism lose touch reality forget use partake selfdamaging behaviours quit swap another cycle back months old friends hate family blame everything every single day seem waste painful call anyone guide pity party look dogshit life cry reduce fault action lack thereof illnesses pain horrible selfimmolation seem like okay option right seriously seem like get ride anymore full steam ahead bottomless pit suffer unless throw loss like many people lonely alone honestly know understand would choose life'\n",
            "Label : 1 (pos)\n",
            "Review: b'fight current circle drainwhere begin talk dear friend recently hit perfect word feel life bleak date someone desire share deepest fear struggle despite us together three four years live together cancer large lovely scar shit drain ton money save necessarily medical bill crazy lack income work long stupidly get sell timeshare yeah dumbass figure eh big deal always lose bite sell need turn point base timeshares literally almost zero dollars resale value let us see next never go college bc know want still almost thirty-five lose ever smart particular skills make special borrow money good friend pay rent good guy lord know good yet get ahead change job income steady great hop barely keep head water see resolution problems sight pos human attentiondetailed bc care much people think know family would miss mom probably gf would probably move home area family want successful regard every day remind never tell close friend admit never house day big deal today tell hubby pay rather stun see end sight want know even shred use purpose never shitty cog big mechanism cog irrelevant reality irrelevant cog disappear without fuss think lot would think car accident would easiest way go without anyone assume definitively know wayward intentions good options clarify car old tiny die car crash feasible'\n",
            "Label : 1 (pos)\n"
          ]
        }
      ],
      "source": [
        "for text_batch, label_batch in train_ds.take(1):\n",
        "  for i in range(3):\n",
        "    print(f'Review: {text_batch.numpy()[i]}')\n",
        "    label = label_batch.numpy()[i]\n",
        "    print(f'Label : {label} ({class_names[label]})')"
      ]
    },
    {
      "cell_type": "code",
      "execution_count": 9,
      "metadata": {
        "cellView": "form",
        "id": "y8_ctG55-uTX",
        "colab": {
          "base_uri": "https://localhost:8080/"
        },
        "outputId": "c36e6bbb-d2cd-4d4c-d972-724fd6de5a09"
      },
      "outputs": [
        {
          "output_type": "stream",
          "name": "stdout",
          "text": [
            "BERT model selected           : https://tfhub.dev/tensorflow/small_bert/bert_en_uncased_L-2_H-128_A-2/1\n",
            "Preprocess model auto-selected: https://tfhub.dev/tensorflow/bert_en_uncased_preprocess/3\n"
          ]
        }
      ],
      "source": [
        "#@title Choose a BERT model to fine-tune\n",
        "\n",
        "bert_model_name = 'small_bert/bert_en_uncased_L-2_H-128_A-2'  #@param [\"bert_en_uncased_L-12_H-768_A-12\", \"bert_en_cased_L-12_H-768_A-12\", \"bert_multi_cased_L-12_H-768_A-12\", \"small_bert/bert_en_uncased_L-2_H-128_A-2\", \"small_bert/bert_en_uncased_L-2_H-256_A-4\", \"small_bert/bert_en_uncased_L-2_H-512_A-8\", \"small_bert/bert_en_uncased_L-2_H-768_A-12\", \"small_bert/bert_en_uncased_L-4_H-128_A-2\", \"small_bert/bert_en_uncased_L-4_H-256_A-4\", \"small_bert/bert_en_uncased_L-4_H-512_A-8\", \"small_bert/bert_en_uncased_L-4_H-768_A-12\", \"small_bert/bert_en_uncased_L-6_H-128_A-2\", \"small_bert/bert_en_uncased_L-6_H-256_A-4\", \"small_bert/bert_en_uncased_L-6_H-512_A-8\", \"small_bert/bert_en_uncased_L-6_H-768_A-12\", \"small_bert/bert_en_uncased_L-8_H-128_A-2\", \"small_bert/bert_en_uncased_L-8_H-256_A-4\", \"small_bert/bert_en_uncased_L-8_H-512_A-8\", \"small_bert/bert_en_uncased_L-8_H-768_A-12\", \"small_bert/bert_en_uncased_L-10_H-128_A-2\", \"small_bert/bert_en_uncased_L-10_H-256_A-4\", \"small_bert/bert_en_uncased_L-10_H-512_A-8\", \"small_bert/bert_en_uncased_L-10_H-768_A-12\", \"small_bert/bert_en_uncased_L-12_H-128_A-2\", \"small_bert/bert_en_uncased_L-12_H-256_A-4\", \"small_bert/bert_en_uncased_L-12_H-512_A-8\", \"small_bert/bert_en_uncased_L-12_H-768_A-12\", \"albert_en_base\", \"electra_small\", \"electra_base\", \"experts_pubmed\", \"experts_wiki_books\", \"talking-heads_base\"]\n",
        "\n",
        "map_name_to_handle = {\n",
        "    'bert_en_uncased_L-12_H-768_A-12':\n",
        "        'https://tfhub.dev/tensorflow/bert_en_uncased_L-12_H-768_A-12/3',\n",
        "    'bert_en_cased_L-12_H-768_A-12':\n",
        "        'https://tfhub.dev/tensorflow/bert_en_cased_L-12_H-768_A-12/3',\n",
        "    'bert_multi_cased_L-12_H-768_A-12':\n",
        "        'https://tfhub.dev/tensorflow/bert_multi_cased_L-12_H-768_A-12/3',\n",
        "    'small_bert/bert_en_uncased_L-2_H-128_A-2':\n",
        "        'https://tfhub.dev/tensorflow/small_bert/bert_en_uncased_L-2_H-128_A-2/1',\n",
        "    'small_bert/bert_en_uncased_L-2_H-256_A-4':\n",
        "        'https://tfhub.dev/tensorflow/small_bert/bert_en_uncased_L-2_H-256_A-4/1',\n",
        "    'small_bert/bert_en_uncased_L-2_H-512_A-8':\n",
        "        'https://tfhub.dev/tensorflow/small_bert/bert_en_uncased_L-2_H-512_A-8/1',\n",
        "    'small_bert/bert_en_uncased_L-2_H-768_A-12':\n",
        "        'https://tfhub.dev/tensorflow/small_bert/bert_en_uncased_L-2_H-768_A-12/1',\n",
        "    'small_bert/bert_en_uncased_L-4_H-128_A-2':\n",
        "        'https://tfhub.dev/tensorflow/small_bert/bert_en_uncased_L-4_H-128_A-2/1',\n",
        "    'small_bert/bert_en_uncased_L-4_H-256_A-4':\n",
        "        'https://tfhub.dev/tensorflow/small_bert/bert_en_uncased_L-4_H-256_A-4/1',\n",
        "    'small_bert/bert_en_uncased_L-4_H-512_A-8':\n",
        "        'https://tfhub.dev/tensorflow/small_bert/bert_en_uncased_L-4_H-512_A-8/1',\n",
        "    'small_bert/bert_en_uncased_L-4_H-768_A-12':\n",
        "        'https://tfhub.dev/tensorflow/small_bert/bert_en_uncased_L-4_H-768_A-12/1',\n",
        "    'small_bert/bert_en_uncased_L-6_H-128_A-2':\n",
        "        'https://tfhub.dev/tensorflow/small_bert/bert_en_uncased_L-6_H-128_A-2/1',\n",
        "    'small_bert/bert_en_uncased_L-6_H-256_A-4':\n",
        "        'https://tfhub.dev/tensorflow/small_bert/bert_en_uncased_L-6_H-256_A-4/1',\n",
        "    'small_bert/bert_en_uncased_L-6_H-512_A-8':\n",
        "        'https://tfhub.dev/tensorflow/small_bert/bert_en_uncased_L-6_H-512_A-8/1',\n",
        "    'small_bert/bert_en_uncased_L-6_H-768_A-12':\n",
        "        'https://tfhub.dev/tensorflow/small_bert/bert_en_uncased_L-6_H-768_A-12/1',\n",
        "    'small_bert/bert_en_uncased_L-8_H-128_A-2':\n",
        "        'https://tfhub.dev/tensorflow/small_bert/bert_en_uncased_L-8_H-128_A-2/1',\n",
        "    'small_bert/bert_en_uncased_L-8_H-256_A-4':\n",
        "        'https://tfhub.dev/tensorflow/small_bert/bert_en_uncased_L-8_H-256_A-4/1',\n",
        "    'small_bert/bert_en_uncased_L-8_H-512_A-8':\n",
        "        'https://tfhub.dev/tensorflow/small_bert/bert_en_uncased_L-8_H-512_A-8/1',\n",
        "    'small_bert/bert_en_uncased_L-8_H-768_A-12':\n",
        "        'https://tfhub.dev/tensorflow/small_bert/bert_en_uncased_L-8_H-768_A-12/1',\n",
        "    'small_bert/bert_en_uncased_L-10_H-128_A-2':\n",
        "        'https://tfhub.dev/tensorflow/small_bert/bert_en_uncased_L-10_H-128_A-2/1',\n",
        "    'small_bert/bert_en_uncased_L-10_H-256_A-4':\n",
        "        'https://tfhub.dev/tensorflow/small_bert/bert_en_uncased_L-10_H-256_A-4/1',\n",
        "    'small_bert/bert_en_uncased_L-10_H-512_A-8':\n",
        "        'https://tfhub.dev/tensorflow/small_bert/bert_en_uncased_L-10_H-512_A-8/1',\n",
        "    'small_bert/bert_en_uncased_L-10_H-768_A-12':\n",
        "        'https://tfhub.dev/tensorflow/small_bert/bert_en_uncased_L-10_H-768_A-12/1',\n",
        "    'small_bert/bert_en_uncased_L-12_H-128_A-2':\n",
        "        'https://tfhub.dev/tensorflow/small_bert/bert_en_uncased_L-12_H-128_A-2/1',\n",
        "    'small_bert/bert_en_uncased_L-12_H-256_A-4':\n",
        "        'https://tfhub.dev/tensorflow/small_bert/bert_en_uncased_L-12_H-256_A-4/1',\n",
        "    'small_bert/bert_en_uncased_L-12_H-512_A-8':\n",
        "        'https://tfhub.dev/tensorflow/small_bert/bert_en_uncased_L-12_H-512_A-8/1',\n",
        "    'small_bert/bert_en_uncased_L-12_H-768_A-12':\n",
        "        'https://tfhub.dev/tensorflow/small_bert/bert_en_uncased_L-12_H-768_A-12/1',\n",
        "    'albert_en_base':\n",
        "        'https://tfhub.dev/tensorflow/albert_en_base/2',\n",
        "    'electra_small':\n",
        "        'https://tfhub.dev/google/electra_small/2',\n",
        "    'electra_base':\n",
        "        'https://tfhub.dev/google/electra_base/2',\n",
        "    'experts_pubmed':\n",
        "        'https://tfhub.dev/google/experts/bert/pubmed/2',\n",
        "    'experts_wiki_books':\n",
        "        'https://tfhub.dev/google/experts/bert/wiki_books/2',\n",
        "    'talking-heads_base':\n",
        "        'https://tfhub.dev/tensorflow/talkheads_ggelu_bert_en_base/1',\n",
        "}\n",
        "\n",
        "map_model_to_preprocess = {\n",
        "    'bert_en_uncased_L-12_H-768_A-12':\n",
        "        'https://tfhub.dev/tensorflow/bert_en_uncased_preprocess/3',\n",
        "    'bert_en_cased_L-12_H-768_A-12':\n",
        "        'https://tfhub.dev/tensorflow/bert_en_cased_preprocess/3',\n",
        "    'small_bert/bert_en_uncased_L-2_H-128_A-2':\n",
        "        'https://tfhub.dev/tensorflow/bert_en_uncased_preprocess/3',\n",
        "    'small_bert/bert_en_uncased_L-2_H-256_A-4':\n",
        "        'https://tfhub.dev/tensorflow/bert_en_uncased_preprocess/3',\n",
        "    'small_bert/bert_en_uncased_L-2_H-512_A-8':\n",
        "        'https://tfhub.dev/tensorflow/bert_en_uncased_preprocess/3',\n",
        "    'small_bert/bert_en_uncased_L-2_H-768_A-12':\n",
        "        'https://tfhub.dev/tensorflow/bert_en_uncased_preprocess/3',\n",
        "    'small_bert/bert_en_uncased_L-4_H-128_A-2':\n",
        "        'https://tfhub.dev/tensorflow/bert_en_uncased_preprocess/3',\n",
        "    'small_bert/bert_en_uncased_L-4_H-256_A-4':\n",
        "        'https://tfhub.dev/tensorflow/bert_en_uncased_preprocess/3',\n",
        "    'small_bert/bert_en_uncased_L-4_H-512_A-8':\n",
        "        'https://tfhub.dev/tensorflow/bert_en_uncased_preprocess/3',\n",
        "    'small_bert/bert_en_uncased_L-4_H-768_A-12':\n",
        "        'https://tfhub.dev/tensorflow/bert_en_uncased_preprocess/3',\n",
        "    'small_bert/bert_en_uncased_L-6_H-128_A-2':\n",
        "        'https://tfhub.dev/tensorflow/bert_en_uncased_preprocess/3',\n",
        "    'small_bert/bert_en_uncased_L-6_H-256_A-4':\n",
        "        'https://tfhub.dev/tensorflow/bert_en_uncased_preprocess/3',\n",
        "    'small_bert/bert_en_uncased_L-6_H-512_A-8':\n",
        "        'https://tfhub.dev/tensorflow/bert_en_uncased_preprocess/3',\n",
        "    'small_bert/bert_en_uncased_L-6_H-768_A-12':\n",
        "        'https://tfhub.dev/tensorflow/bert_en_uncased_preprocess/3',\n",
        "    'small_bert/bert_en_uncased_L-8_H-128_A-2':\n",
        "        'https://tfhub.dev/tensorflow/bert_en_uncased_preprocess/3',\n",
        "    'small_bert/bert_en_uncased_L-8_H-256_A-4':\n",
        "        'https://tfhub.dev/tensorflow/bert_en_uncased_preprocess/3',\n",
        "    'small_bert/bert_en_uncased_L-8_H-512_A-8':\n",
        "        'https://tfhub.dev/tensorflow/bert_en_uncased_preprocess/3',\n",
        "    'small_bert/bert_en_uncased_L-8_H-768_A-12':\n",
        "        'https://tfhub.dev/tensorflow/bert_en_uncased_preprocess/3',\n",
        "    'small_bert/bert_en_uncased_L-10_H-128_A-2':\n",
        "        'https://tfhub.dev/tensorflow/bert_en_uncased_preprocess/3',\n",
        "    'small_bert/bert_en_uncased_L-10_H-256_A-4':\n",
        "        'https://tfhub.dev/tensorflow/bert_en_uncased_preprocess/3',\n",
        "    'small_bert/bert_en_uncased_L-10_H-512_A-8':\n",
        "        'https://tfhub.dev/tensorflow/bert_en_uncased_preprocess/3',\n",
        "    'small_bert/bert_en_uncased_L-10_H-768_A-12':\n",
        "        'https://tfhub.dev/tensorflow/bert_en_uncased_preprocess/3',\n",
        "    'small_bert/bert_en_uncased_L-12_H-128_A-2':\n",
        "        'https://tfhub.dev/tensorflow/bert_en_uncased_preprocess/3',\n",
        "    'small_bert/bert_en_uncased_L-12_H-256_A-4':\n",
        "        'https://tfhub.dev/tensorflow/bert_en_uncased_preprocess/3',\n",
        "    'small_bert/bert_en_uncased_L-12_H-512_A-8':\n",
        "        'https://tfhub.dev/tensorflow/bert_en_uncased_preprocess/3',\n",
        "    'small_bert/bert_en_uncased_L-12_H-768_A-12':\n",
        "        'https://tfhub.dev/tensorflow/bert_en_uncased_preprocess/3',\n",
        "    'bert_multi_cased_L-12_H-768_A-12':\n",
        "        'https://tfhub.dev/tensorflow/bert_multi_cased_preprocess/3',\n",
        "    'albert_en_base':\n",
        "        'https://tfhub.dev/tensorflow/albert_en_preprocess/3',\n",
        "    'electra_small':\n",
        "        'https://tfhub.dev/tensorflow/bert_en_uncased_preprocess/3',\n",
        "    'electra_base':\n",
        "        'https://tfhub.dev/tensorflow/bert_en_uncased_preprocess/3',\n",
        "    'experts_pubmed':\n",
        "        'https://tfhub.dev/tensorflow/bert_en_uncased_preprocess/3',\n",
        "    'experts_wiki_books':\n",
        "        'https://tfhub.dev/tensorflow/bert_en_uncased_preprocess/3',\n",
        "    'talking-heads_base':\n",
        "        'https://tfhub.dev/tensorflow/bert_en_uncased_preprocess/3',\n",
        "}\n",
        "\n",
        "tfhub_handle_encoder = map_name_to_handle[bert_model_name]\n",
        "tfhub_handle_preprocess = map_model_to_preprocess[bert_model_name]\n",
        "\n",
        "print(f'BERT model selected           : {tfhub_handle_encoder}')\n",
        "print(f'Preprocess model auto-selected: {tfhub_handle_preprocess}')"
      ]
    },
    {
      "cell_type": "code",
      "execution_count": 10,
      "metadata": {
        "id": "0SQi-jWd_jzq"
      },
      "outputs": [],
      "source": [
        "bert_preprocess_model = hub.KerasLayer(tfhub_handle_preprocess)"
      ]
    },
    {
      "cell_type": "code",
      "execution_count": 11,
      "metadata": {
        "id": "r9-zCzJpnuwS",
        "colab": {
          "base_uri": "https://localhost:8080/"
        },
        "outputId": "14b95ef9-33da-4e93-a08c-f3b35cf517df"
      },
      "outputs": [
        {
          "output_type": "stream",
          "name": "stdout",
          "text": [
            "Keys       : ['input_mask', 'input_type_ids', 'input_word_ids']\n",
            "Shape      : (1, 128)\n",
            "Word Ids   : [ 101 2023 2003 2107 2019 6429 3185  999  102    0    0    0]\n",
            "Input Mask : [1 1 1 1 1 1 1 1 1 0 0 0]\n",
            "Type Ids   : [0 0 0 0 0 0 0 0 0 0 0 0]\n"
          ]
        }
      ],
      "source": [
        "text_test = ['this is such an amazing movie!']\n",
        "text_preprocessed = bert_preprocess_model(text_test)\n",
        "\n",
        "print(f'Keys       : {list(text_preprocessed.keys())}')\n",
        "print(f'Shape      : {text_preprocessed[\"input_word_ids\"].shape}')\n",
        "print(f'Word Ids   : {text_preprocessed[\"input_word_ids\"][0, :12]}')\n",
        "print(f'Input Mask : {text_preprocessed[\"input_mask\"][0, :12]}')\n",
        "print(f'Type Ids   : {text_preprocessed[\"input_type_ids\"][0, :12]}')"
      ]
    },
    {
      "cell_type": "code",
      "execution_count": 12,
      "metadata": {
        "id": "tXxYpK8ixL34"
      },
      "outputs": [],
      "source": [
        "bert_model = hub.KerasLayer(tfhub_handle_encoder)"
      ]
    },
    {
      "cell_type": "code",
      "execution_count": 13,
      "metadata": {
        "id": "_OoF9mebuSZc",
        "colab": {
          "base_uri": "https://localhost:8080/"
        },
        "outputId": "f5bf1d73-a1c6-4724-97fb-6c83eb08b7bf"
      },
      "outputs": [
        {
          "output_type": "stream",
          "name": "stdout",
          "text": [
            "Loaded BERT: https://tfhub.dev/tensorflow/small_bert/bert_en_uncased_L-2_H-128_A-2/1\n",
            "Pooled Outputs Shape:(1, 128)\n",
            "Pooled Outputs Values:[-0.9999946   0.14341946 -0.998978    0.9951449  -0.9997456   0.91312915\n",
            " -0.9961582  -0.9709752   0.09740024  0.01907063 -0.84881747 -0.09385548]\n",
            "Sequence Outputs Shape:(1, 128, 128)\n",
            "Sequence Outputs Values:[[-0.43723646 -1.0138292  -2.3744745  ... -0.75897133 -2.0910313\n",
            "  -0.2580999 ]\n",
            " [-1.3369725  -0.3688017   0.57868826 ... -2.181017   -1.7530917\n",
            "  -0.09554987]\n",
            " [-1.0607057  -0.30371034  0.3446127  ... -1.2898581  -1.9519892\n",
            "  -0.12230323]\n",
            " ...\n",
            " [-0.8602282  -0.54406065  0.6583734  ... -1.4765681  -1.7518612\n",
            "   1.1197374 ]\n",
            " [-0.46869045 -0.5715233   0.6725659  ... -1.7302343  -1.9740779\n",
            "   0.97479206]\n",
            " [ 0.0203653  -0.75511885  0.5948241  ... -1.9656783  -1.9051425\n",
            "   0.48970166]]\n"
          ]
        }
      ],
      "source": [
        "bert_results = bert_model(text_preprocessed)\n",
        "\n",
        "print(f'Loaded BERT: {tfhub_handle_encoder}')\n",
        "print(f'Pooled Outputs Shape:{bert_results[\"pooled_output\"].shape}')\n",
        "print(f'Pooled Outputs Values:{bert_results[\"pooled_output\"][0, :12]}')\n",
        "print(f'Sequence Outputs Shape:{bert_results[\"sequence_output\"].shape}')\n",
        "print(f'Sequence Outputs Values:{bert_results[\"sequence_output\"][0, :12]}')"
      ]
    },
    {
      "cell_type": "code",
      "execution_count": 14,
      "metadata": {
        "id": "aksj743St9ga"
      },
      "outputs": [],
      "source": [
        "def build_classifier_model():\n",
        "  text_input = tf.keras.layers.Input(shape=(), dtype=tf.string, name='text')\n",
        "  preprocessing_layer = hub.KerasLayer(tfhub_handle_preprocess, name='preprocessing')\n",
        "  encoder_inputs = preprocessing_layer(text_input)\n",
        "  encoder = hub.KerasLayer(tfhub_handle_encoder, trainable=True, name='BERT_encoder')\n",
        "  outputs = encoder(encoder_inputs)\n",
        "  net = outputs['pooled_output']\n",
        "  net = tf.keras.layers.Dropout(0.1)(net)\n",
        "  net = tf.keras.layers.Dense(1, activation=None, name='classifier')(net)\n",
        "  return tf.keras.Model(text_input, net)"
      ]
    },
    {
      "cell_type": "code",
      "execution_count": 15,
      "metadata": {
        "id": "mGMF8AZcB2Zy",
        "colab": {
          "base_uri": "https://localhost:8080/"
        },
        "outputId": "7820f14e-5da4-4892-d33c-952b5403ab8c"
      },
      "outputs": [
        {
          "output_type": "stream",
          "name": "stdout",
          "text": [
            "tf.Tensor([[0.2484128]], shape=(1, 1), dtype=float32)\n"
          ]
        }
      ],
      "source": [
        "classifier_model = build_classifier_model()\n",
        "bert_raw_result = classifier_model(tf.constant(text_test))\n",
        "print(tf.sigmoid(bert_raw_result))"
      ]
    },
    {
      "cell_type": "code",
      "execution_count": 16,
      "metadata": {
        "id": "0EmzyHZXKIpm",
        "colab": {
          "base_uri": "https://localhost:8080/",
          "height": 466
        },
        "outputId": "6b76e734-a0e0-4a22-e29e-d40c4fe08c37"
      },
      "outputs": [
        {
          "output_type": "execute_result",
          "data": {
            "text/plain": [
              "<IPython.core.display.Image object>"
            ],
            "image/png": "[encoded data removed]"
          },
          "metadata": {},
          "execution_count": 16
        }
      ],
      "source": [
        "tf.keras.utils.plot_model(classifier_model)"
      ]
    },
    {
      "cell_type": "code",
      "execution_count": 17,
      "metadata": {
        "id": "OWPOZE-L3AgE"
      },
      "outputs": [],
      "source": [
        "loss = tf.keras.losses.BinaryCrossentropy(from_logits=True)\n",
        "metrics = tf.metrics.BinaryAccuracy()"
      ]
    },
    {
      "cell_type": "code",
      "execution_count": 18,
      "metadata": {
        "id": "P9eP2y9dbw32"
      },
      "outputs": [],
      "source": [
        "epochs = 20\n",
        "steps_per_epoch = tf.data.experimental.cardinality(train_ds).numpy()\n",
        "num_train_steps = steps_per_epoch * epochs\n",
        "num_warmup_steps = int(0.1*num_train_steps)\n",
        "\n",
        "init_lr = 2e-5\n",
        "optimizer = optimization.create_optimizer(init_lr=init_lr,\n",
        "                                          num_train_steps=num_train_steps,\n",
        "                                          num_warmup_steps=num_warmup_steps,\n",
        "                                          optimizer_type='adamw')"
      ]
    },
    {
      "cell_type": "code",
      "execution_count": 19,
      "metadata": {
        "id": "-7GPDhR98jsD"
      },
      "outputs": [],
      "source": [
        "classifier_model.compile(optimizer=optimizer,\n",
        "                         loss=loss,\n",
        "                         metrics=metrics)"
      ]
    },
    {
      "cell_type": "code",
      "execution_count": 20,
      "metadata": {
        "id": "HtfDFAnN_Neu",
        "outputId": "2112df9d-96e8-49d7-b13c-c0b51c9a8901",
        "colab": {
          "base_uri": "https://localhost:8080/"
        }
      },
      "outputs": [
        {
          "output_type": "stream",
          "name": "stdout",
          "text": [
            "Training model with https://tfhub.dev/tensorflow/small_bert/bert_en_uncased_L-2_H-128_A-2/1\n",
            "Epoch 1/50\n",
            "250/250 [==============================] - ETA: 0s - loss: 0.7806 - binary_accuracy: 0.5375\n",
            "Epoch 1: saving model to /content/suicide_data/model_checkpoints/cp.ckpt\n",
            "250/250 [==============================] - 23s 74ms/step - loss: 0.7806 - binary_accuracy: 0.5375 - val_loss: 0.5278 - val_binary_accuracy: 0.7275\n",
            "Epoch 2/50\n",
            "250/250 [==============================] - ETA: 0s - loss: 0.4840 - binary_accuracy: 0.7756\n",
            "Epoch 2: saving model to /content/suicide_data/model_checkpoints/cp.ckpt\n",
            "250/250 [==============================] - 18s 71ms/step - loss: 0.4840 - binary_accuracy: 0.7756 - val_loss: 0.3974 - val_binary_accuracy: 0.8370\n",
            "Epoch 3/50\n",
            "250/250 [==============================] - ETA: 0s - loss: 0.3733 - binary_accuracy: 0.8405\n",
            "Epoch 3: saving model to /content/suicide_data/model_checkpoints/cp.ckpt\n",
            "250/250 [==============================] - 17s 68ms/step - loss: 0.3733 - binary_accuracy: 0.8405 - val_loss: 0.3083 - val_binary_accuracy: 0.8705\n",
            "Epoch 4/50\n",
            "250/250 [==============================] - ETA: 0s - loss: 0.3030 - binary_accuracy: 0.8741\n",
            "Epoch 4: saving model to /content/suicide_data/model_checkpoints/cp.ckpt\n",
            "250/250 [==============================] - 17s 68ms/step - loss: 0.3030 - binary_accuracy: 0.8741 - val_loss: 0.2544 - val_binary_accuracy: 0.8930\n",
            "Epoch 5/50\n",
            "250/250 [==============================] - ETA: 0s - loss: 0.2481 - binary_accuracy: 0.8989\n",
            "Epoch 5: saving model to /content/suicide_data/model_checkpoints/cp.ckpt\n",
            "250/250 [==============================] - 17s 69ms/step - loss: 0.2481 - binary_accuracy: 0.8989 - val_loss: 0.2255 - val_binary_accuracy: 0.9040\n",
            "Epoch 6/50\n",
            "250/250 [==============================] - ETA: 0s - loss: 0.2256 - binary_accuracy: 0.9087\n",
            "Epoch 6: saving model to /content/suicide_data/model_checkpoints/cp.ckpt\n",
            "250/250 [==============================] - 17s 68ms/step - loss: 0.2256 - binary_accuracy: 0.9087 - val_loss: 0.2094 - val_binary_accuracy: 0.9140\n",
            "Epoch 7/50\n",
            "250/250 [==============================] - ETA: 0s - loss: 0.1964 - binary_accuracy: 0.9243\n",
            "Epoch 7: saving model to /content/suicide_data/model_checkpoints/cp.ckpt\n",
            "250/250 [==============================] - 17s 68ms/step - loss: 0.1964 - binary_accuracy: 0.9243 - val_loss: 0.2032 - val_binary_accuracy: 0.9225\n",
            "Epoch 8/50\n",
            "250/250 [==============================] - ETA: 0s - loss: 0.1831 - binary_accuracy: 0.9258\n",
            "Epoch 8: saving model to /content/suicide_data/model_checkpoints/cp.ckpt\n",
            "250/250 [==============================] - 17s 69ms/step - loss: 0.1831 - binary_accuracy: 0.9258 - val_loss: 0.1981 - val_binary_accuracy: 0.9290\n",
            "Epoch 9/50\n",
            "250/250 [==============================] - ETA: 0s - loss: 0.1702 - binary_accuracy: 0.9355\n",
            "Epoch 9: saving model to /content/suicide_data/model_checkpoints/cp.ckpt\n",
            "250/250 [==============================] - 17s 69ms/step - loss: 0.1702 - binary_accuracy: 0.9355 - val_loss: 0.1962 - val_binary_accuracy: 0.9285\n",
            "Epoch 10/50\n",
            "250/250 [==============================] - ETA: 0s - loss: 0.1597 - binary_accuracy: 0.9404\n",
            "Epoch 10: saving model to /content/suicide_data/model_checkpoints/cp.ckpt\n",
            "250/250 [==============================] - 17s 68ms/step - loss: 0.1597 - binary_accuracy: 0.9404 - val_loss: 0.1949 - val_binary_accuracy: 0.9305\n",
            "Epoch 11/50\n",
            "250/250 [==============================] - ETA: 0s - loss: 0.1522 - binary_accuracy: 0.9426\n",
            "Epoch 11: saving model to /content/suicide_data/model_checkpoints/cp.ckpt\n",
            "250/250 [==============================] - 17s 68ms/step - loss: 0.1522 - binary_accuracy: 0.9426 - val_loss: 0.1956 - val_binary_accuracy: 0.9295\n",
            "Epoch 12/50\n",
            "250/250 [==============================] - ETA: 0s - loss: 0.1442 - binary_accuracy: 0.9474\n",
            "Epoch 12: saving model to /content/suicide_data/model_checkpoints/cp.ckpt\n",
            "250/250 [==============================] - 17s 68ms/step - loss: 0.1442 - binary_accuracy: 0.9474 - val_loss: 0.1947 - val_binary_accuracy: 0.9320\n",
            "Epoch 13/50\n",
            "250/250 [==============================] - ETA: 0s - loss: 0.1291 - binary_accuracy: 0.9549\n",
            "Epoch 13: saving model to /content/suicide_data/model_checkpoints/cp.ckpt\n",
            "250/250 [==============================] - 17s 69ms/step - loss: 0.1291 - binary_accuracy: 0.9549 - val_loss: 0.2038 - val_binary_accuracy: 0.9320\n",
            "Epoch 14/50\n",
            "250/250 [==============================] - ETA: 0s - loss: 0.1292 - binary_accuracy: 0.9534\n",
            "Epoch 14: saving model to /content/suicide_data/model_checkpoints/cp.ckpt\n",
            "250/250 [==============================] - 17s 69ms/step - loss: 0.1292 - binary_accuracy: 0.9534 - val_loss: 0.2022 - val_binary_accuracy: 0.9335\n",
            "Epoch 15/50\n",
            "250/250 [==============================] - ETA: 0s - loss: 0.1267 - binary_accuracy: 0.9550\n",
            "Epoch 15: saving model to /content/suicide_data/model_checkpoints/cp.ckpt\n",
            "250/250 [==============================] - 17s 68ms/step - loss: 0.1267 - binary_accuracy: 0.9550 - val_loss: 0.2016 - val_binary_accuracy: 0.9335\n",
            "Epoch 16/50\n",
            "250/250 [==============================] - ETA: 0s - loss: 0.1126 - binary_accuracy: 0.9604\n",
            "Epoch 16: saving model to /content/suicide_data/model_checkpoints/cp.ckpt\n",
            "250/250 [==============================] - 17s 68ms/step - loss: 0.1126 - binary_accuracy: 0.9604 - val_loss: 0.2082 - val_binary_accuracy: 0.9340\n",
            "Epoch 17/50\n",
            "250/250 [==============================] - ETA: 0s - loss: 0.1137 - binary_accuracy: 0.9604\n",
            "Epoch 17: saving model to /content/suicide_data/model_checkpoints/cp.ckpt\n",
            "250/250 [==============================] - 17s 69ms/step - loss: 0.1137 - binary_accuracy: 0.9604 - val_loss: 0.2133 - val_binary_accuracy: 0.9345\n",
            "Epoch 18/50\n",
            "250/250 [==============================] - ETA: 0s - loss: 0.1091 - binary_accuracy: 0.9620\n",
            "Epoch 18: saving model to /content/suicide_data/model_checkpoints/cp.ckpt\n",
            "250/250 [==============================] - 17s 69ms/step - loss: 0.1091 - binary_accuracy: 0.9620 - val_loss: 0.2150 - val_binary_accuracy: 0.9370\n",
            "Epoch 19/50\n",
            "250/250 [==============================] - ETA: 0s - loss: 0.1009 - binary_accuracy: 0.9641\n",
            "Epoch 19: saving model to /content/suicide_data/model_checkpoints/cp.ckpt\n",
            "250/250 [==============================] - 17s 69ms/step - loss: 0.1009 - binary_accuracy: 0.9641 - val_loss: 0.2131 - val_binary_accuracy: 0.9355\n",
            "Epoch 20/50\n",
            "250/250 [==============================] - ETA: 0s - loss: 0.0957 - binary_accuracy: 0.9653\n",
            "Epoch 20: saving model to /content/suicide_data/model_checkpoints/cp.ckpt\n",
            "250/250 [==============================] - 17s 69ms/step - loss: 0.0957 - binary_accuracy: 0.9653 - val_loss: 0.2153 - val_binary_accuracy: 0.9370\n",
            "Epoch 21/50\n",
            "250/250 [==============================] - ETA: 0s - loss: 0.0872 - binary_accuracy: 0.9700\n",
            "Epoch 21: saving model to /content/suicide_data/model_checkpoints/cp.ckpt\n",
            "250/250 [==============================] - 17s 68ms/step - loss: 0.0872 - binary_accuracy: 0.9700 - val_loss: 0.2267 - val_binary_accuracy: 0.9360\n",
            "Epoch 22/50\n",
            "250/250 [==============================] - ETA: 0s - loss: 0.0832 - binary_accuracy: 0.9704\n",
            "Epoch 22: saving model to /content/suicide_data/model_checkpoints/cp.ckpt\n",
            "250/250 [==============================] - 17s 68ms/step - loss: 0.0832 - binary_accuracy: 0.9704 - val_loss: 0.2318 - val_binary_accuracy: 0.9345\n",
            "Epoch 23/50\n",
            "250/250 [==============================] - ETA: 0s - loss: 0.0817 - binary_accuracy: 0.9722\n",
            "Epoch 23: saving model to /content/suicide_data/model_checkpoints/cp.ckpt\n",
            "250/250 [==============================] - 17s 69ms/step - loss: 0.0817 - binary_accuracy: 0.9722 - val_loss: 0.2350 - val_binary_accuracy: 0.9355\n",
            "Epoch 24/50\n",
            "250/250 [==============================] - ETA: 0s - loss: 0.0850 - binary_accuracy: 0.9710\n",
            "Epoch 24: saving model to /content/suicide_data/model_checkpoints/cp.ckpt\n",
            "250/250 [==============================] - 17s 69ms/step - loss: 0.0850 - binary_accuracy: 0.9710 - val_loss: 0.2351 - val_binary_accuracy: 0.9365\n",
            "Epoch 25/50\n",
            "250/250 [==============================] - ETA: 0s - loss: 0.0734 - binary_accuracy: 0.9755\n",
            "Epoch 25: saving model to /content/suicide_data/model_checkpoints/cp.ckpt\n",
            "250/250 [==============================] - 17s 68ms/step - loss: 0.0734 - binary_accuracy: 0.9755 - val_loss: 0.2413 - val_binary_accuracy: 0.9335\n",
            "Epoch 26/50\n",
            "250/250 [==============================] - ETA: 0s - loss: 0.0762 - binary_accuracy: 0.9736\n",
            "Epoch 26: saving model to /content/suicide_data/model_checkpoints/cp.ckpt\n",
            "250/250 [==============================] - 17s 68ms/step - loss: 0.0762 - binary_accuracy: 0.9736 - val_loss: 0.2443 - val_binary_accuracy: 0.9350\n",
            "Epoch 27/50\n",
            "250/250 [==============================] - ETA: 0s - loss: 0.0758 - binary_accuracy: 0.9756\n",
            "Epoch 27: saving model to /content/suicide_data/model_checkpoints/cp.ckpt\n",
            "250/250 [==============================] - 17s 68ms/step - loss: 0.0758 - binary_accuracy: 0.9756 - val_loss: 0.2429 - val_binary_accuracy: 0.9345\n",
            "Epoch 28/50\n",
            "250/250 [==============================] - ETA: 0s - loss: 0.0661 - binary_accuracy: 0.9787\n",
            "Epoch 28: saving model to /content/suicide_data/model_checkpoints/cp.ckpt\n",
            "250/250 [==============================] - 17s 69ms/step - loss: 0.0661 - binary_accuracy: 0.9787 - val_loss: 0.2483 - val_binary_accuracy: 0.9335\n",
            "Epoch 29/50\n",
            "250/250 [==============================] - ETA: 0s - loss: 0.0735 - binary_accuracy: 0.9765\n",
            "Epoch 29: saving model to /content/suicide_data/model_checkpoints/cp.ckpt\n",
            "250/250 [==============================] - 17s 68ms/step - loss: 0.0735 - binary_accuracy: 0.9765 - val_loss: 0.2505 - val_binary_accuracy: 0.9340\n",
            "Epoch 30/50\n",
            "250/250 [==============================] - ETA: 0s - loss: 0.0679 - binary_accuracy: 0.9775\n",
            "Epoch 30: saving model to /content/suicide_data/model_checkpoints/cp.ckpt\n",
            "250/250 [==============================] - 17s 69ms/step - loss: 0.0679 - binary_accuracy: 0.9775 - val_loss: 0.2544 - val_binary_accuracy: 0.9325\n",
            "Epoch 31/50\n",
            "250/250 [==============================] - ETA: 0s - loss: 0.0671 - binary_accuracy: 0.9774\n",
            "Epoch 31: saving model to /content/suicide_data/model_checkpoints/cp.ckpt\n",
            "250/250 [==============================] - 17s 69ms/step - loss: 0.0671 - binary_accuracy: 0.9774 - val_loss: 0.2608 - val_binary_accuracy: 0.9340\n",
            "Epoch 32/50\n",
            "250/250 [==============================] - ETA: 0s - loss: 0.0600 - binary_accuracy: 0.9812\n",
            "Epoch 32: saving model to /content/suicide_data/model_checkpoints/cp.ckpt\n",
            "250/250 [==============================] - 17s 68ms/step - loss: 0.0600 - binary_accuracy: 0.9812 - val_loss: 0.2658 - val_binary_accuracy: 0.9320\n",
            "Epoch 33/50\n",
            "250/250 [==============================] - ETA: 0s - loss: 0.0618 - binary_accuracy: 0.9801\n",
            "Epoch 33: saving model to /content/suicide_data/model_checkpoints/cp.ckpt\n",
            "250/250 [==============================] - 17s 69ms/step - loss: 0.0618 - binary_accuracy: 0.9801 - val_loss: 0.2687 - val_binary_accuracy: 0.9335\n",
            "Epoch 34/50\n",
            "250/250 [==============================] - ETA: 0s - loss: 0.0680 - binary_accuracy: 0.9793\n",
            "Epoch 34: saving model to /content/suicide_data/model_checkpoints/cp.ckpt\n",
            "250/250 [==============================] - 17s 69ms/step - loss: 0.0680 - binary_accuracy: 0.9793 - val_loss: 0.2630 - val_binary_accuracy: 0.9340\n",
            "Epoch 35/50\n",
            "250/250 [==============================] - ETA: 0s - loss: 0.0633 - binary_accuracy: 0.9795\n",
            "Epoch 35: saving model to /content/suicide_data/model_checkpoints/cp.ckpt\n",
            "250/250 [==============================] - 17s 68ms/step - loss: 0.0633 - binary_accuracy: 0.9795 - val_loss: 0.2702 - val_binary_accuracy: 0.9335\n",
            "Epoch 36/50\n",
            "250/250 [==============================] - ETA: 0s - loss: 0.0640 - binary_accuracy: 0.9801\n",
            "Epoch 36: saving model to /content/suicide_data/model_checkpoints/cp.ckpt\n",
            "250/250 [==============================] - 17s 68ms/step - loss: 0.0640 - binary_accuracy: 0.9801 - val_loss: 0.2653 - val_binary_accuracy: 0.9360\n",
            "Epoch 37/50\n",
            "250/250 [==============================] - ETA: 0s - loss: 0.0495 - binary_accuracy: 0.9839\n",
            "Epoch 37: saving model to /content/suicide_data/model_checkpoints/cp.ckpt\n",
            "250/250 [==============================] - 17s 69ms/step - loss: 0.0495 - binary_accuracy: 0.9839 - val_loss: 0.2724 - val_binary_accuracy: 0.9360\n",
            "Epoch 38/50\n",
            "250/250 [==============================] - ETA: 0s - loss: 0.0522 - binary_accuracy: 0.9836\n",
            "Epoch 38: saving model to /content/suicide_data/model_checkpoints/cp.ckpt\n",
            "250/250 [==============================] - 17s 69ms/step - loss: 0.0522 - binary_accuracy: 0.9836 - val_loss: 0.2749 - val_binary_accuracy: 0.9345\n",
            "Epoch 39/50\n",
            "250/250 [==============================] - ETA: 0s - loss: 0.0520 - binary_accuracy: 0.9846\n",
            "Epoch 39: saving model to /content/suicide_data/model_checkpoints/cp.ckpt\n",
            "250/250 [==============================] - 17s 68ms/step - loss: 0.0520 - binary_accuracy: 0.9846 - val_loss: 0.2766 - val_binary_accuracy: 0.9345\n",
            "Epoch 40/50\n",
            "250/250 [==============================] - ETA: 0s - loss: 0.0547 - binary_accuracy: 0.9830\n",
            "Epoch 40: saving model to /content/suicide_data/model_checkpoints/cp.ckpt\n",
            "250/250 [==============================] - 17s 68ms/step - loss: 0.0547 - binary_accuracy: 0.9830 - val_loss: 0.2782 - val_binary_accuracy: 0.9340\n",
            "Epoch 41/50\n",
            "250/250 [==============================] - ETA: 0s - loss: 0.0508 - binary_accuracy: 0.9834\n",
            "Epoch 41: saving model to /content/suicide_data/model_checkpoints/cp.ckpt\n",
            "250/250 [==============================] - 17s 68ms/step - loss: 0.0508 - binary_accuracy: 0.9834 - val_loss: 0.2836 - val_binary_accuracy: 0.9355\n",
            "Epoch 42/50\n",
            "250/250 [==============================] - ETA: 0s - loss: 0.0510 - binary_accuracy: 0.9844\n",
            "Epoch 42: saving model to /content/suicide_data/model_checkpoints/cp.ckpt\n",
            "250/250 [==============================] - 17s 68ms/step - loss: 0.0510 - binary_accuracy: 0.9844 - val_loss: 0.2811 - val_binary_accuracy: 0.9340\n",
            "Epoch 43/50\n",
            "250/250 [==============================] - ETA: 0s - loss: 0.0488 - binary_accuracy: 0.9836\n",
            "Epoch 43: saving model to /content/suicide_data/model_checkpoints/cp.ckpt\n",
            "250/250 [==============================] - 17s 69ms/step - loss: 0.0488 - binary_accuracy: 0.9836 - val_loss: 0.2832 - val_binary_accuracy: 0.9340\n",
            "Epoch 44/50\n",
            "250/250 [==============================] - ETA: 0s - loss: 0.0474 - binary_accuracy: 0.9850\n",
            "Epoch 44: saving model to /content/suicide_data/model_checkpoints/cp.ckpt\n",
            "250/250 [==============================] - 17s 69ms/step - loss: 0.0474 - binary_accuracy: 0.9850 - val_loss: 0.2846 - val_binary_accuracy: 0.9345\n",
            "Epoch 45/50\n",
            "250/250 [==============================] - ETA: 0s - loss: 0.0488 - binary_accuracy: 0.9844\n",
            "Epoch 45: saving model to /content/suicide_data/model_checkpoints/cp.ckpt\n",
            "250/250 [==============================] - 17s 68ms/step - loss: 0.0488 - binary_accuracy: 0.9844 - val_loss: 0.2871 - val_binary_accuracy: 0.9345\n",
            "Epoch 46/50\n",
            "250/250 [==============================] - ETA: 0s - loss: 0.0468 - binary_accuracy: 0.9843\n",
            "Epoch 46: saving model to /content/suicide_data/model_checkpoints/cp.ckpt\n",
            "250/250 [==============================] - 17s 69ms/step - loss: 0.0468 - binary_accuracy: 0.9843 - val_loss: 0.2892 - val_binary_accuracy: 0.9340\n",
            "Epoch 47/50\n",
            "250/250 [==============================] - ETA: 0s - loss: 0.0497 - binary_accuracy: 0.9845\n",
            "Epoch 47: saving model to /content/suicide_data/model_checkpoints/cp.ckpt\n",
            "250/250 [==============================] - 17s 68ms/step - loss: 0.0497 - binary_accuracy: 0.9845 - val_loss: 0.2884 - val_binary_accuracy: 0.9345\n",
            "Epoch 48/50\n",
            "250/250 [==============================] - ETA: 0s - loss: 0.0456 - binary_accuracy: 0.9850\n",
            "Epoch 48: saving model to /content/suicide_data/model_checkpoints/cp.ckpt\n",
            "250/250 [==============================] - 17s 68ms/step - loss: 0.0456 - binary_accuracy: 0.9850 - val_loss: 0.2884 - val_binary_accuracy: 0.9355\n",
            "Epoch 49/50\n",
            "250/250 [==============================] - ETA: 0s - loss: 0.0500 - binary_accuracy: 0.9844\n",
            "Epoch 49: saving model to /content/suicide_data/model_checkpoints/cp.ckpt\n",
            "250/250 [==============================] - 17s 68ms/step - loss: 0.0500 - binary_accuracy: 0.9844 - val_loss: 0.2895 - val_binary_accuracy: 0.9350\n",
            "Epoch 50/50\n",
            "250/250 [==============================] - ETA: 0s - loss: 0.0483 - binary_accuracy: 0.9843\n",
            "Epoch 50: saving model to /content/suicide_data/model_checkpoints/cp.ckpt\n",
            "250/250 [==============================] - 17s 68ms/step - loss: 0.0483 - binary_accuracy: 0.9843 - val_loss: 0.2895 - val_binary_accuracy: 0.9355\n"
          ]
        }
      ],
      "source": [
        "checkpoint_path = \"/content/suicide_data/model_checkpoints/cp.ckpt\"\n",
        "checkpoint_dir = os.path.dirname(checkpoint_path)\n",
        "\n",
        "# Create a callback that saves the model's weights\n",
        "cp_callback = tf.keras.callbacks.ModelCheckpoint(filepath=checkpoint_path,\n",
        "                                                 save_weights_only=True,\n",
        "                                                 verbose=1)\n",
        "\n",
        "print(f'Training model with {tfhub_handle_encoder}')\n",
        "history = classifier_model.fit(x=train_ds,\n",
        "                               validation_data=val_ds,\n",
        "                               epochs=epochs,\n",
        "                               callbacks=[cp_callback])"
      ]
    },
    {
      "cell_type": "code",
      "execution_count": 21,
      "metadata": {
        "id": "slqB-urBV9sP",
        "colab": {
          "base_uri": "https://localhost:8080/"
        },
        "outputId": "cfd60ee1-6e39-4cd5-8ce2-d9a1f2906e26"
      },
      "outputs": [
        {
          "output_type": "stream",
          "name": "stdout",
          "text": [
            "              precision    recall  f1-score   support\n",
            "\n",
            "           0       0.88      0.91      0.89        23\n",
            "           1       0.91      0.87      0.89        23\n",
            "\n",
            "    accuracy                           0.89        46\n",
            "   macro avg       0.89      0.89      0.89        46\n",
            "weighted avg       0.89      0.89      0.89        46\n",
            "\n",
            "2/2 [==============================] - 0s 20ms/step - loss: 0.5843 - binary_accuracy: 0.8913\n",
            "Loss: 0.5842598676681519\n",
            "Accuracy: 0.8913043737411499\n"
          ]
        }
      ],
      "source": [
        "from sklearn.metrics import classification_report\n",
        "import pandas as pd\n",
        "\n",
        "test_df = pd.read_csv('/content/drive/MyDrive/local_data2_clean.csv')\n",
        "predict_y = tf.math.round(tf.sigmoid(classifier_model(test_df['text'].values)))\n",
        "y_eval = test_df['class'].values\n",
        "\n",
        "print(classification_report(y_eval, predict_y))\n",
        "\n",
        "loss, accuracy = classifier_model.evaluate(test_ds)\n",
        "\n",
        "print(f'Loss: {loss}')\n",
        "print(f'Accuracy: {accuracy}')"
      ]
    },
    {
      "cell_type": "code",
      "execution_count": 22,
      "metadata": {
        "id": "fiythcODf0xo",
        "colab": {
          "base_uri": "https://localhost:8080/",
          "height": 459
        },
        "outputId": "f2e9fecf-c31c-498f-f51c-77678d7d3223"
      },
      "outputs": [
        {
          "output_type": "stream",
          "name": "stdout",
          "text": [
            "dict_keys(['loss', 'binary_accuracy', 'val_loss', 'val_binary_accuracy'])\n"
          ]
        },
        {
          "output_type": "display_data",
          "data": {
            "text/plain": [
              "<Figure size 720x432 with 2 Axes>"
            ],
            "image/png": "[encoded data removed]"
          },
          "metadata": {
            "needs_background": "light"
          }
        }
      ],
      "source": [
        "history_dict = history.history\n",
        "print(history_dict.keys())\n",
        "\n",
        "acc = history_dict['binary_accuracy']\n",
        "val_acc = history_dict['val_binary_accuracy']\n",
        "loss = history_dict['loss']\n",
        "val_loss = history_dict['val_loss']\n",
        "\n",
        "epochs = range(1, len(acc) + 1)\n",
        "fig = plt.figure(figsize=(10, 6))\n",
        "\n",
        "plt.subplot(2, 1, 1)\n",
        "# r is for \"solid red line\"\n",
        "plt.plot(epochs, loss, label='Training loss')\n",
        "# b is for \"solid blue line\"\n",
        "plt.plot(epochs, val_loss, label='Validation loss')\n",
        "plt.title('Training and validation loss')\n",
        "# plt.xlabel('Epochs')\n",
        "plt.ylabel('Loss')\n",
        "plt.legend()\n",
        "\n",
        "plt.subplot(2, 1, 2)\n",
        "plt.plot(epochs, acc, label='Training acc')\n",
        "plt.plot(epochs, val_acc, label='Validation acc')\n",
        "plt.title('Training and validation accuracy')\n",
        "plt.xlabel('Epochs')\n",
        "plt.ylabel('Accuracy')\n",
        "plt.legend(loc='lower right')\n",
        "\n",
        "fig.tight_layout()"
      ]
    },
    {
      "cell_type": "code",
      "source": [
        "import time\n",
        "\n",
        "tries = []\n",
        "for i in range(300):\n",
        "  single_text = test_df.sample(1)['text']\n",
        "  start = time.time()\n",
        "  single_predicted = classifier_model.predict(single_text)\n",
        "  end = time.time()\n",
        "  tries.append(end-start)\n",
        "print(\"Average time taken: \", sum(tries) / len(tries))"
      ],
      "metadata": {
        "colab": {
          "base_uri": "https://localhost:8080/"
        },
        "id": "9fnZNmlm3O6L",
        "outputId": "e34cb8c7-6439-47c7-be9a-ae4d6840bf16"
      },
      "execution_count": 23,
      "outputs": [
        {
          "output_type": "stream",
          "name": "stdout",
          "text": [
            "Average time taken:  0.04085941553115845\n"
          ]
        }
      ]
    },
    {
      "cell_type": "code",
      "execution_count": 24,
      "metadata": {
        "id": "ShcvqJAgVera",
        "colab": {
          "base_uri": "https://localhost:8080/"
        },
        "outputId": "10601b18-89c2-42bf-df07-a80265e5b9a0"
      },
      "outputs": [
        {
          "output_type": "stream",
          "name": "stderr",
          "text": [
            "WARNING:absl:Found untraced functions such as restored_function_body, restored_function_body, restored_function_body, restored_function_body, restored_function_body while saving (showing 5 of 64). These functions will not be directly callable after loading.\n"
          ]
        }
      ],
      "source": [
        "dataset_name = 'suicide_data'\n",
        "saved_model_path = '/content/drive/MyDrive/{}_bert-tiny'.format(dataset_name.replace('/', '_'))\n",
        "\n",
        "classifier_model.save(saved_model_path, include_optimizer=False)"
      ]
    },
    {
      "cell_type": "markdown",
      "metadata": {
        "id": "PbI25bS1vD7s"
      },
      "source": [
        "Let's reload the model, so you can try it side by side with the model that is still in memory."
      ]
    },
    {
      "cell_type": "code",
      "execution_count": 25,
      "metadata": {
        "id": "gUEWVskZjEF0"
      },
      "outputs": [],
      "source": [
        "reloaded_model = tf.saved_model.load(saved_model_path)"
      ]
    },
    {
      "cell_type": "code",
      "execution_count": 26,
      "metadata": {
        "id": "VBWzH6exlCPS",
        "colab": {
          "base_uri": "https://localhost:8080/"
        },
        "outputId": "22f81c1d-c20c-4826-809e-6fce7f5879b6"
      },
      "outputs": [
        {
          "output_type": "stream",
          "name": "stdout",
          "text": [
            "Results from the saved model:\n",
            "input: I want to kill myself...       : score: 0.995041\n",
            "input: Life is great baby!            : score: 0.072981\n",
            "input: Life is tough, not sure if i want to keep going on... : score: 0.995542\n",
            "input: School is rough but i know it will get better : score: 0.013212\n",
            "input: I failed my finals, not sure how i can face my parents like this. Im thinking of ending it all tonight : score: 0.012471\n",
            "\n",
            "Results from the model in memory:\n",
            "input: I want to kill myself...       : score: 0.995041\n",
            "input: Life is great baby!            : score: 0.072981\n",
            "input: Life is tough, not sure if i want to keep going on... : score: 0.995542\n",
            "input: School is rough but i know it will get better : score: 0.013212\n",
            "input: I failed my finals, not sure how i can face my parents like this. Im thinking of ending it all tonight : score: 0.012471\n",
            "\n"
          ]
        }
      ],
      "source": [
        "def print_my_examples(inputs, results):\n",
        "  result_for_printing = \\\n",
        "    [f'input: {inputs[i]:<30} : score: {results[i][0]:.6f}'\n",
        "                         for i in range(len(inputs))]\n",
        "  print(*result_for_printing, sep='\\n')\n",
        "  print()\n",
        "\n",
        "\n",
        "examples = [\n",
        "    'I want to kill myself...',  # this is the same sentence tried earlier\n",
        "    'Life is great baby!',\n",
        "    'Life is tough, not sure if i want to keep going on...',\n",
        "    'School is rough but i know it will get better',\n",
        "    'I failed my finals, not sure how i can face my parents like this. Im thinking of ending it all tonight'\n",
        "]\n",
        "\n",
        "reloaded_results = tf.sigmoid(reloaded_model(tf.constant(examples)))\n",
        "original_results = tf.sigmoid(classifier_model(tf.constant(examples)))\n",
        "\n",
        "print('Results from the saved model:')\n",
        "print_my_examples(examples, reloaded_results)\n",
        "print('Results from the model in memory:')\n",
        "print_my_examples(examples, original_results)"
      ]
    },
    {
      "cell_type": "code",
      "execution_count": 27,
      "metadata": {
        "id": "0FdVD3973S-O",
        "colab": {
          "base_uri": "https://localhost:8080/"
        },
        "outputId": "e83b80b7-d3eb-46d2-c381-5b8c8818916e"
      },
      "outputs": [
        {
          "output_type": "stream",
          "name": "stdout",
          "text": [
            "input: I want to kill myself...       : score: 0.995041\n",
            "input: Life is great baby!            : score: 0.072981\n",
            "input: Life is tough, not sure if i want to keep going on... : score: 0.995542\n",
            "input: School is rough but i know it will get better : score: 0.013212\n",
            "input: I failed my finals, not sure how i can face my parents like this. Im thinking of ending it all tonight : score: 0.012471\n",
            "\n"
          ]
        }
      ],
      "source": [
        "serving_results = reloaded_model \\\n",
        "            .signatures['serving_default'](tf.constant(examples))\n",
        "\n",
        "serving_results = tf.sigmoid(serving_results['classifier'])\n",
        "\n",
        "print_my_examples(examples, serving_results)"
      ]
    }
  ],
  "metadata": {
    "colab": {
      "collapsed_sections": [],
      "name": "BERT.ipynb",
      "provenance": [],
      "machine_shape": "hm"
    },
    "kernelspec": {
      "display_name": "Python 3",
      "name": "python3"
    },
    "accelerator": "GPU"
  },
  "nbformat": 4,
  "nbformat_minor": 0
}